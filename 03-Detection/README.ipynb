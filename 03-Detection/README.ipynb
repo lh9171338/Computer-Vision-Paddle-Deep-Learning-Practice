{
 "cells": [
  {
   "cell_type": "markdown",
   "id": "880fa553-ca76-42e0-a7db-ca9991f87390",
   "metadata": {},
   "source": [
    "```shell\n",
    "# 下载代码库\n",
    "git clone https://github.com/lh9171338/lh-ppdet.git\n",
    "cd lh-ppdet\n",
    "\n",
    "# 安装依赖包\n",
    "python -m pip install -r requirements.txt --user\n",
    "echo \"backend: Agg\" > ~/.config/matplotlib/matplotlibrc\n",
    "\n",
    "# 编译代码\n",
    "python -m pip install -v -e .\n",
    "\n",
    "# 准备数据集\n",
    "cd /home/aistudio/data/data255499\n",
    "tar -xvf bosch_traffic_light.tar\n",
    "cd /home/aistudio/work/03-Detection/lh-ppdet/data\n",
    "ln -s /home/aistudio/data/data255499/bosch_traffic_light ./\n",
    "\n",
    "# 训练\n",
    "sh train.sh bosch_40ep_yolov3_fpn_dbsampler_warmup\n",
    "\n",
    "# 测试\n",
    "sh test.sh bosch_40ep_yolov3_fpn_dbsampler_warmup\n",
    "```"
   ]
  },
  {
   "cell_type": "markdown",
   "id": "de0f2833-0549-451b-9d0b-6a46e3f46b6a",
   "metadata": {},
   "source": [
    "配置SSH\n",
    "```shell\n",
    "cd ~/.ssh\n",
    "\n",
    "# 生成密钥\n",
    "ssh-keygen\n",
    "\n",
    "# 创建config文件，并填入以下内容\n",
    "vi config\n",
    "\n",
    "Host github.com\n",
    "User git\n",
    "Hostname ssh.github.com\n",
    "PreferredAuthentications publickey\n",
    "IdentityFile ~/.ssh/id_rsa\n",
    "Port 443\n",
    "\n",
    "Host gitlab.com\n",
    "Hostname altssh.gitlab.com\n",
    "User git\n",
    "Port 443\n",
    "PreferredAuthentications publickey\n",
    "IdentityFile ~/.ssh/id_rsa\n",
    "```"
   ]
  }
 ],
 "metadata": {
  "kernelspec": {
   "display_name": "Python 3",
   "language": "python",
   "name": "py35-paddle1.2.0"
  },
  "language_info": {
   "codemirror_mode": {
    "name": "ipython",
    "version": 3
   },
   "file_extension": ".py",
   "mimetype": "text/x-python",
   "name": "python",
   "nbconvert_exporter": "python",
   "pygments_lexer": "ipython3",
   "version": "3.10.10"
  }
 },
 "nbformat": 4,
 "nbformat_minor": 5
}
