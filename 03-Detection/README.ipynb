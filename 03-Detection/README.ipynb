{
 "cells": [
  {
   "cell_type": "markdown",
   "id": "a17420a4-97dc-4bf0-87f6-c14d3b73c00d",
   "metadata": {},
   "source": [
    "# 配置SSH\n",
    "```shell\n",
    "cd ~/.ssh\n",
    "\n",
    "# 生成密钥\n",
    "ssh-keygen\n",
    "\n",
    "# 创建config文件，并填入以下内容\n",
    "vi config\n",
    "\n",
    "Host github.com\n",
    "User git\n",
    "Hostname ssh.github.com\n",
    "PreferredAuthentications publickey\n",
    "IdentityFile ~/.ssh/id_rsa\n",
    "Port 443\n",
    "\n",
    "Host gitlab.com\n",
    "Hostname altssh.gitlab.com\n",
    "User git\n",
    "Port 443\n",
    "PreferredAuthentications publickey\n",
    "IdentityFile ~/.ssh/id_rsa\n",
    "```"
   ]
  },
  {
   "cell_type": "markdown",
   "id": "fbbd26a6-cf93-475a-9f51-af9e6d2ffd86",
   "metadata": {},
   "source": [
    "# 1. 配置环境\n",
    "\n",
    "```shell\n",
    "# 下载代码库\n",
    "git clone https://github.com/lh9171338/lh-ppdet.git\n",
    "cd lh-ppdet\n",
    "\n",
    "# 安装依赖包\n",
    "python -m pip install --upgrade -r requirements.txt --user\n",
    "echo \"backend: Agg\" > ~/.config/matplotlib/matplotlibrc\n",
    "\n",
    "# 编译代码\n",
    "python -m pip install -v -e .\n",
    "```\n",
    "\n",
    "# 2. 准备数据集\n",
    "```shell\n",
    "cd /home/aistudio/data/data255499\n",
    "tar -xvf bosch_traffic_light.tar\n",
    "cd /home/aistudio/work/03-Detection/lh-ppdet\n",
    "mkdir -p data && cd data\n",
    "ln -s /home/aistudio/data/data255499/bosch_traffic_light ./\n",
    "cd ..\n",
    "```\n",
    "\n",
    "# 3. 训练&测试\n",
    "```shell\n",
    "# 训练\n",
    "sh train.sh bosch_40ep_yolov3_fpn_dbsampler_warmup\n",
    "\n",
    "# 测试\n",
    "sh test.sh bosch_40ep_yolov3_fpn_dbsampler_warmup\n",
    "```"
   ]
  },
  {
   "cell_type": "markdown",
   "id": "1c48d764-fc88-45f5-b641-70636b35c420",
   "metadata": {},
   "source": [
    "# 4. 指标\n",
    "| model | config | mAP | precision | recall | RedLeft | Red | RedRight | GreenLeft | Green | GreenRight | Yellow | off |\n",
    "| :---: | :---: | :---: | :---: | :---: | :---: | :---: | :---: | :---: | :---: | :---: | :---: | :---: |\n",
    "| YOLOv3 | [config](lh-ppdet/configs/bosch_40ep_yolov3_fpn_dbsampler_warmup.yaml) | 29.40 | 25.25 | 38.14 | 44.65 | 47.98 | 0.00 | 30.63 | 68.39 | 0.00 | 25.13 | 18.40 |"
   ]
  }
 ],
 "metadata": {
  "kernelspec": {
   "display_name": "Python 3",
   "language": "python",
   "name": "py35-paddle1.2.0"
  },
  "language_info": {
   "codemirror_mode": {
    "name": "ipython",
    "version": 3
   },
   "file_extension": ".py",
   "mimetype": "text/x-python",
   "name": "python",
   "nbconvert_exporter": "python",
   "pygments_lexer": "ipython3",
   "version": "3.7.4"
  }
 },
 "nbformat": 4,
 "nbformat_minor": 5
}
